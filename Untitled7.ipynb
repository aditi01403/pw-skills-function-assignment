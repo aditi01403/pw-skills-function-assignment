{
  "nbformat": 4,
  "nbformat_minor": 0,
  "metadata": {
    "colab": {
      "provenance": []
    },
    "kernelspec": {
      "name": "python3",
      "display_name": "Python 3"
    },
    "language_info": {
      "name": "python"
    }
  },
  "cells": [
    {
      "cell_type": "markdown",
      "source": [
        "Question 1.What is the difference between a function and a method in Python?\n",
        "\n",
        "Answer-In Python, both functions and methods are callable objects, but they have distinct differences in terms of how they are defined and used:\n",
        "\n",
        "Function\n",
        "\n",
        "Definition: A function is a block of reusable code that is defined using the def keyword.\n",
        "\n",
        "Scope: Functions can be defined globally (at the module level) or locally (inside another function).\n",
        "\n",
        "Binding: Functions are not bound to any object.\n",
        "\n",
        "Calling: A function is called independently of any object.\n",
        "\n",
        "Example:"
      ],
      "metadata": {
        "id": "-uzmLgn0GOC-"
      }
    },
    {
      "cell_type": "code",
      "source": [
        "def greet(name):\n",
        "    return f\"Hello, {name}!\"\n",
        "\n",
        "print(greet(\"Alice\"))"
      ],
      "metadata": {
        "colab": {
          "base_uri": "https://localhost:8080/"
        },
        "id": "BKtm11XuHNfU",
        "outputId": "b313b6eb-0117-4e8b-c1ae-e0ebc7a12d70"
      },
      "execution_count": null,
      "outputs": [
        {
          "output_type": "stream",
          "name": "stdout",
          "text": [
            "Hello, Alice!\n"
          ]
        }
      ]
    },
    {
      "cell_type": "markdown",
      "source": [
        "Method\n",
        "\n",
        "Definition: A method is a function that is associated with an object. In Python, methods are functions defined inside a class.\n",
        "\n",
        "Scope: Methods are defined within the context of a class.\n",
        "\n",
        "Binding: Methods are bound to an object or the class itself. They can access the instance or class attributes via self or cls.\n",
        "\n",
        "Calling: A method is called on an object (or the class in the case of class methods).\n",
        "\n",
        "Example:"
      ],
      "metadata": {
        "id": "BKLOH266HZ_U"
      }
    },
    {
      "cell_type": "code",
      "source": [
        "class Greeter:\n",
        "    def greet(self, name):\n",
        "        return f\"Hello, {name}!\"\n",
        "\n",
        "greeter = Greeter()\n",
        "print(greeter.greet(\"Alice\"))"
      ],
      "metadata": {
        "colab": {
          "base_uri": "https://localhost:8080/"
        },
        "id": "gv3YF9EkHgVD",
        "outputId": "37823e52-612e-4818-c8c3-2130a443cafd"
      },
      "execution_count": null,
      "outputs": [
        {
          "output_type": "stream",
          "name": "stdout",
          "text": [
            "Hello, Alice!\n"
          ]
        }
      ]
    },
    {
      "cell_type": "markdown",
      "source": [
        " Question 2. Explain the concept of function, arguments and parameters in Python?\n",
        "\n",
        "\n",
        "Answer-Function\n",
        "\n",
        "A reusable block of code defined using def. It can take inputs and return outputs.\n",
        "\n",
        "\n",
        "Example:"
      ],
      "metadata": {
        "id": "9o-7n17kHtd7"
      }
    },
    {
      "cell_type": "code",
      "source": [
        "def add(a, b):\n",
        "    return a + b"
      ],
      "metadata": {
        "id": "B8Aiu-TjIoIO"
      },
      "execution_count": null,
      "outputs": []
    },
    {
      "cell_type": "markdown",
      "source": [
        "Parameters\n",
        "\n",
        "Placeholders defined in a function to specify expected inputs.\n",
        "Example:"
      ],
      "metadata": {
        "id": "JWXbN_QUIoTR"
      }
    },
    {
      "cell_type": "code",
      "source": [
        "def greet(name):  # 'name' is a parameter\n",
        "    return f\"Hello, {name}!\""
      ],
      "metadata": {
        "id": "ouJKTqXeItsT"
      },
      "execution_count": null,
      "outputs": []
    },
    {
      "cell_type": "markdown",
      "source": [
        "Arguments\n",
        "\n",
        "Actual values passed to the function during a call.\n",
        "Example:"
      ],
      "metadata": {
        "id": "Swd1SzwRIx6c"
      }
    },
    {
      "cell_type": "code",
      "source": [
        "greet(\"Alice\")  # \"Alice\" is an argument"
      ],
      "metadata": {
        "colab": {
          "base_uri": "https://localhost:8080/",
          "height": 263
        },
        "id": "8JN4NiT2IzRe",
        "outputId": "91fe182e-448a-40da-f891-0fd5505133b9"
      },
      "execution_count": null,
      "outputs": [
        {
          "output_type": "error",
          "ename": "TypeError",
          "evalue": "greet() takes 0 positional arguments but 1 was given",
          "traceback": [
            "\u001b[0;31m---------------------------------------------------------------------------\u001b[0m",
            "\u001b[0;31mTypeError\u001b[0m                                 Traceback (most recent call last)",
            "\u001b[0;32m<ipython-input-3-1ecc77bc0457>\u001b[0m in \u001b[0;36m<cell line: 1>\u001b[0;34m()\u001b[0m\n\u001b[0;32m----> 1\u001b[0;31m \u001b[0mgreet\u001b[0m\u001b[0;34m(\u001b[0m\u001b[0;34m\"Alice\"\u001b[0m\u001b[0;34m)\u001b[0m  \u001b[0;31m# \"Alice\" is an argument\u001b[0m\u001b[0;34m\u001b[0m\u001b[0;34m\u001b[0m\u001b[0m\n\u001b[0m",
            "\u001b[0;31mTypeError\u001b[0m: greet() takes 0 positional arguments but 1 was given"
          ]
        }
      ]
    },
    {
      "cell_type": "markdown",
      "source": [
        " 3.What are the different ways to design and call a function in Python?\n",
        "\n",
        "Answer-In Python, functions can be designed and called in various ways, depending on their use cases and the programming style. Here's an overview:\n",
        "\n",
        "\n",
        "---\n",
        "\n",
        "1. Basic Function Definition and Call\n",
        "\n",
        "Definition: Use the def keyword.\n",
        "\n",
        "Call: Use the function name followed by parentheses."
      ],
      "metadata": {
        "id": "AdoYh7nlJCYi"
      }
    },
    {
      "cell_type": "code",
      "source": [
        "def greet():\n",
        "    print(\"Hello, World!\")\n",
        "\n",
        "greet()  # Function call"
      ],
      "metadata": {
        "id": "8KQvUVHFKlyC",
        "colab": {
          "base_uri": "https://localhost:8080/"
        },
        "outputId": "4f934d63-1fbc-414c-b7d9-ddcd9f686b29"
      },
      "execution_count": null,
      "outputs": [
        {
          "output_type": "stream",
          "name": "stdout",
          "text": [
            "Hello, World!\n"
          ]
        }
      ]
    },
    {
      "cell_type": "markdown",
      "source": [
        "2. Function with Parameters\n",
        "\n",
        "Definition: Accept arguments.\n",
        "\n",
        "Call: Pass arguments during the call."
      ],
      "metadata": {
        "id": "vk_z3AFpKmmF"
      }
    },
    {
      "cell_type": "code",
      "source": [
        "def greet(name):\n",
        "    print(f\"Hello, {name}!\")\n",
        "\n",
        "greet(\"Alice\")  # Pass \"Alice\" as an argument"
      ],
      "metadata": {
        "colab": {
          "base_uri": "https://localhost:8080/"
        },
        "id": "CeymTW4KK75E",
        "outputId": "6b5a62f2-be7d-42a4-e2e7-324bd2756e06"
      },
      "execution_count": null,
      "outputs": [
        {
          "output_type": "stream",
          "name": "stdout",
          "text": [
            "Hello, Alice!\n"
          ]
        }
      ]
    },
    {
      "cell_type": "markdown",
      "source": [
        "3. Function with Default Parameters\n",
        "\n",
        "Definition: Provide default values for parameters.\n",
        "\n",
        "Call: Use the default value or pass a custom one."
      ],
      "metadata": {
        "id": "XyAplyeSK8ER"
      }
    },
    {
      "cell_type": "code",
      "source": [
        "def greet(name=\"Guest\"):\n",
        "    print(f\"Hello, {name}!\")\n",
        "\n",
        "greet()          # Uses the default value \"Guest\"\n",
        "greet(\"Alice\")   # Overrides the default value"
      ],
      "metadata": {
        "id": "FYe_nKvuK_Ep"
      },
      "execution_count": null,
      "outputs": []
    },
    {
      "cell_type": "markdown",
      "source": [
        "4. Function Returning Values\n",
        "\n",
        "Definition: Use the return keyword to return a value.\n",
        "\n",
        "Call: Store or use the returned value."
      ],
      "metadata": {
        "id": "_92zi83FK_O4"
      }
    },
    {
      "cell_type": "code",
      "source": [
        "def add(a, b):\n",
        "    return a + b\n",
        "\n",
        "result = add(3, 5)  # Store the returned value\n",
        "print(result)       # Output: 8"
      ],
      "metadata": {
        "colab": {
          "base_uri": "https://localhost:8080/"
        },
        "id": "Ja1Ch3sNLH9z",
        "outputId": "2455804c-b63d-4cc9-b55c-c87507f76c38"
      },
      "execution_count": null,
      "outputs": [
        {
          "output_type": "stream",
          "name": "stdout",
          "text": [
            "8\n"
          ]
        }
      ]
    },
    {
      "cell_type": "markdown",
      "source": [],
      "metadata": {
        "id": "AMkeKxmkGXdF"
      }
    },
    {
      "cell_type": "markdown",
      "source": [
        "5. Functions with Variable Arguments\n",
        "\n",
        "Definition: Use *args for positional arguments and **kwargs for keyword arguments.\n",
        "\n",
        "Call: Pass multiple arguments or key-value pairs."
      ],
      "metadata": {
        "id": "CMJ2L8p9LJT7"
      }
    },
    {
      "cell_type": "code",
      "source": [
        "def summarize(*args, **kwargs):\n",
        "    print(\"Positional arguments:\", args)\n",
        "    print(\"Keyword arguments:\", kwargs)\n",
        "\n",
        "summarize(1, 2, 3, name=\"Alice\", age=25)"
      ],
      "metadata": {
        "colab": {
          "base_uri": "https://localhost:8080/"
        },
        "id": "3Izcgum-LNNg",
        "outputId": "a74e26f1-128f-49c0-c695-23360613ada1"
      },
      "execution_count": null,
      "outputs": [
        {
          "output_type": "stream",
          "name": "stdout",
          "text": [
            "Positional arguments: (1, 2, 3)\n",
            "Keyword arguments: {'name': 'Alice', 'age': 25}\n"
          ]
        }
      ]
    },
    {
      "cell_type": "markdown",
      "source": [
        "6. Lambda Functions (Anonymous Functions)\n",
        "\n",
        "Definition: Use the lambda keyword.\n",
        "\n",
        "Call: Assign the function to a variable or use it directly."
      ],
      "metadata": {
        "id": "MtYDABntLNYl"
      }
    },
    {
      "cell_type": "code",
      "source": [],
      "metadata": {
        "id": "PIvTUig8LSZ_"
      },
      "execution_count": null,
      "outputs": []
    },
    {
      "cell_type": "markdown",
      "source": [
        "7. Recursive Functions\n",
        "\n",
        "Definition: Call the function from within itself.\n",
        "\n",
        "Call: Ensure a base condition to prevent infinite recursion."
      ],
      "metadata": {
        "id": "d8oaf0piLS2o"
      }
    },
    {
      "cell_type": "code",
      "source": [],
      "metadata": {
        "id": "jJl-PNewLYq-"
      },
      "execution_count": null,
      "outputs": []
    },
    {
      "cell_type": "markdown",
      "source": [
        "Question 3.What are the different ways to define and call a function in Python?\n",
        "\n",
        "\n",
        "Answer-In Python, functions are a fundamental part of the language and can be defined and called in various ways. Below are the different ways to define and call functions:\n",
        "\n",
        "1. Using def to Define a Function\n",
        "\n",
        "Example:"
      ],
      "metadata": {
        "id": "T2x-Qh_DGZBI"
      }
    },
    {
      "cell_type": "code",
      "source": [
        "def greet(name):\n",
        "    return f\"Hello, {name}!\"\n",
        "\n",
        "# Calling the function\n",
        "print(greet(\"Alice\"))"
      ],
      "metadata": {
        "colab": {
          "base_uri": "https://localhost:8080/"
        },
        "id": "AuApXgPYG8YB",
        "outputId": "8ff286b6-33b5-4cd0-a78b-a67c3b1ba6e4"
      },
      "execution_count": null,
      "outputs": [
        {
          "output_type": "stream",
          "name": "stdout",
          "text": [
            "Hello, Alice!\n"
          ]
        }
      ]
    },
    {
      "cell_type": "markdown",
      "source": [
        "2. Lambda (Anonymous Functions)\n",
        "\n",
        "Lambda functions are single-expression, inline functions.\n",
        "\n",
        "Example:"
      ],
      "metadata": {
        "id": "R3aJIlhUG8he"
      }
    },
    {
      "cell_type": "code",
      "source": [
        "greet = lambda name: f\"Hello, {name}!\"\n",
        "print(greet(\"Bob\"))"
      ],
      "metadata": {
        "colab": {
          "base_uri": "https://localhost:8080/"
        },
        "id": "tx5OjQpbHNM_",
        "outputId": "7a9cd69c-d586-42a3-a44a-e68b4db05276"
      },
      "execution_count": null,
      "outputs": [
        {
          "output_type": "stream",
          "name": "stdout",
          "text": [
            "Hello, Bob!\n"
          ]
        }
      ]
    },
    {
      "cell_type": "markdown",
      "source": [
        "Question 4.What is the purpose of the 'return' statement in a Python function?\n",
        "\n",
        "Answer-The return statement in a Python function serves the following purposes:\n",
        "\n",
        "1. Returning a Value to the Caller\n",
        "\n",
        "The return statement is used to send a value from a function back to the place where it was called.\n",
        "\n",
        "This value can then be assigned to a variable, used in expressions, or printed.\n",
        "\n",
        "\n",
        "Example:"
      ],
      "metadata": {
        "id": "wdo2clIJHOXE"
      }
    },
    {
      "cell_type": "code",
      "source": [
        "def square(number):\n",
        "    return number * number\n",
        "\n",
        "result = square(5)  # result now holds the value 25\n",
        "print(result)"
      ],
      "metadata": {
        "colab": {
          "base_uri": "https://localhost:8080/"
        },
        "id": "k0v0Tu8BHiJE",
        "outputId": "15da5cc4-b824-43be-a8e2-59c391310ba1"
      },
      "execution_count": null,
      "outputs": [
        {
          "output_type": "stream",
          "name": "stdout",
          "text": [
            "25\n"
          ]
        }
      ]
    },
    {
      "cell_type": "markdown",
      "source": [
        "2. Terminating the Function Execution\n",
        "\n",
        "When a return statement is executed, the function terminates immediately, and control is returned to the caller.\n",
        "\n",
        "\n",
        "Example:"
      ],
      "metadata": {
        "id": "bAIW7K3rHiWO"
      }
    },
    {
      "cell_type": "code",
      "source": [
        "def check_number(number):\n",
        "    if number > 0:\n",
        "        return \"Positive\"\n",
        "    return \"Non-positive\"\n",
        "\n",
        "print(check_number(3))  # Outputs: Positive"
      ],
      "metadata": {
        "colab": {
          "base_uri": "https://localhost:8080/"
        },
        "id": "a_DHASWGH8Ae",
        "outputId": "42be4148-07be-46d3-db2e-89c1db14ba78"
      },
      "execution_count": null,
      "outputs": [
        {
          "output_type": "stream",
          "name": "stdout",
          "text": [
            "Positive\n"
          ]
        }
      ]
    },
    {
      "cell_type": "markdown",
      "source": [
        "3. Returning Multiple Values\n",
        "\n",
        "Python allows returning multiple values as a tuple, which can be unpacked.\n",
        "\n",
        "\n",
        "Example:"
      ],
      "metadata": {
        "id": "ao2t-M7RHpCR"
      }
    },
    {
      "cell_type": "code",
      "source": [
        "def get_coordinates():\n",
        "    return 10, 20  # Returns a tuple (10, 20)\n",
        "\n",
        "x, y = get_coordinates()\n",
        "print(x, y)  # Outputs: 10 20"
      ],
      "metadata": {
        "colab": {
          "base_uri": "https://localhost:8080/"
        },
        "id": "CvB0yLTvH7E4",
        "outputId": "38b150f4-d7ac-40fe-b419-875f84da9bfa"
      },
      "execution_count": null,
      "outputs": [
        {
          "output_type": "stream",
          "name": "stdout",
          "text": [
            "10 20\n"
          ]
        }
      ]
    },
    {
      "cell_type": "markdown",
      "source": [
        "4. Returning Nothing (None)\n",
        "\n",
        "If a function doesn’t have a return statement, or the return statement doesn’t specify a value, the function implicitly returns None.\n",
        "\n",
        "\n",
        "Example:"
      ],
      "metadata": {
        "id": "SGKM8JxNHwJj"
      }
    },
    {
      "cell_type": "code",
      "source": [
        "def say_hello():\n",
        "    print(\"Hello!\")\n",
        "\n",
        "result = say_hello()\n",
        "print(result)  # Outputs: None"
      ],
      "metadata": {
        "colab": {
          "base_uri": "https://localhost:8080/"
        },
        "id": "BswKlYH-H1Lo",
        "outputId": "9d7dc513-92fc-4ab9-f6f8-ba038dedb6d3"
      },
      "execution_count": null,
      "outputs": [
        {
          "output_type": "stream",
          "name": "stdout",
          "text": [
            "Hello!\n",
            "None\n"
          ]
        }
      ]
    },
    {
      "cell_type": "markdown",
      "source": [
        "Question 5.What are iterators in Python and how do they differ from iterables?\n",
        "\n",
        "Answer-In Python, iterators and iterables are closely related concepts used in iteration, but they have distinct roles and characteristics. Here's a detailed explanation:\n",
        "\n",
        "\n",
        "---\n",
        "\n",
        "1. What is an Iterable?\n",
        "\n",
        "An iterable is any Python object that can return its elements one at a time.\n",
        "\n",
        "Examples include lists, tuples, strings, sets, dictionaries, and objects of classes that implement the __iter__ method.\n",
        "\n",
        "An iterable does not keep track of the current position; it provides an iterator to perform iteration.\n",
        "\n",
        "\n",
        "Example:"
      ],
      "metadata": {
        "id": "ZLL4fa-RIZu5"
      }
    },
    {
      "cell_type": "code",
      "source": [
        "my_list = [1, 2, 3]\n",
        "for item in my_list:  # my_list is iterable\n",
        "    print(item)"
      ],
      "metadata": {
        "colab": {
          "base_uri": "https://localhost:8080/"
        },
        "id": "XvrAZBvPIkLQ",
        "outputId": "add6c5ee-c51c-4bb3-b57c-eda2506e522a"
      },
      "execution_count": null,
      "outputs": [
        {
          "output_type": "stream",
          "name": "stdout",
          "text": [
            "1\n",
            "2\n",
            "3\n"
          ]
        }
      ]
    },
    {
      "cell_type": "markdown",
      "source": [
        "2. What is an Iterator?\n",
        "\n",
        "An iterator is an object that represents a stream of data and knows how to fetch the next element when requested.\n",
        "\n",
        "It must implement two special methods:\n",
        "\n",
        "__iter__() to return the iterator object itself.\n",
        "\n",
        "__next__() to return the next element in the sequence. If no more elements exist, it raises a StopIteration exception.\n",
        "\n",
        "\n",
        "\n",
        "Example:"
      ],
      "metadata": {
        "id": "0iN3phrBIuFE"
      }
    },
    {
      "cell_type": "code",
      "source": [
        "my_list = [1, 2, 3]\n",
        "my_iterator = iter(my_list)  # Obtain an iterator from the iterable\n",
        "\n",
        "print(next(my_iterator))  # Output: 1\n",
        "print(next(my_iterator))  # Output: 2\n",
        "print(next(my_iterator))  # Output: 3\n",
        "# next(my_iterator)  # Raises StopIteration"
      ],
      "metadata": {
        "colab": {
          "base_uri": "https://localhost:8080/"
        },
        "id": "ToMUymt9JXkg",
        "outputId": "3615d04b-692f-4922-a20e-1ee09d6d2399"
      },
      "execution_count": null,
      "outputs": [
        {
          "output_type": "stream",
          "name": "stdout",
          "text": [
            "1\n",
            "2\n",
            "3\n"
          ]
        }
      ]
    },
    {
      "cell_type": "markdown",
      "source": [
        "Key Differences Between Iterables and Iterators\n",
        "\n",
        "\n",
        "---\n",
        "\n",
        "3. Example of Custom Iterator\n",
        "\n",
        "You can create a custom iterator by defining a class that implements __iter__() and __next__():\n",
        "\n",
        "Example:"
      ],
      "metadata": {
        "id": "PSKVHbL4Jes2"
      }
    },
    {
      "cell_type": "code",
      "source": [
        "class Counter:\n",
        "    def __init__(self, start, end):\n",
        "        self.current = start\n",
        "        self.end = end\n",
        "\n",
        "    def __iter__(self):\n",
        "        return self\n",
        "\n",
        "    def __next__(self):\n",
        "        if self.current > self.end:\n",
        "            raise StopIteration\n",
        "        self.current += 1\n",
        "        return self.current - 1\n",
        "\n",
        "counter = Counter(1, 5)\n",
        "for number in counter:\n",
        "    print(number)"
      ],
      "metadata": {
        "colab": {
          "base_uri": "https://localhost:8080/"
        },
        "id": "GANJcc-hJld6",
        "outputId": "083728c0-bb1c-49f7-baf3-1af36e7ed866"
      },
      "execution_count": null,
      "outputs": [
        {
          "output_type": "stream",
          "name": "stdout",
          "text": [
            "1\n",
            "2\n",
            "3\n",
            "4\n",
            "5\n"
          ]
        }
      ]
    },
    {
      "cell_type": "markdown",
      "source": [
        "Summary\n",
        "\n",
        "Iterable: Objects you can loop over using a for loop.\n",
        "\n",
        "Iterator: Objects that help traverse an iterable one element at a time.\n",
        "\n",
        "An iterator is obtained by calling iter() on an iterable. Iterators are more memory-efficient when working with large datasets."
      ],
      "metadata": {
        "id": "Qj75aKfQJ3kS"
      }
    },
    {
      "cell_type": "markdown",
      "source": [
        "Question 6.Explain the concept of generators in Python and how they are defined.\n",
        "\n",
        "Answer-Generators in Python\n",
        "\n",
        "Generators are functions that yield items one at a time, using the yield keyword, allowing for lazy evaluation (memory-efficient).\n",
        "\n",
        "\n",
        "---\n",
        "\n",
        "Key Points:\n",
        "\n",
        "1. Defined with yield:"
      ],
      "metadata": {
        "id": "AjhGQ59FKRPH"
      }
    },
    {
      "cell_type": "code",
      "source": [
        "def count_up_to(n):\n",
        "    count = 1\n",
        "    while count <= n:\n",
        "        yield count\n",
        "        count += 1"
      ],
      "metadata": {
        "id": "swTKJi44KhhT"
      },
      "execution_count": null,
      "outputs": []
    },
    {
      "cell_type": "markdown",
      "source": [
        "2. Usage:"
      ],
      "metadata": {
        "id": "MValULQOKhwT"
      }
    },
    {
      "cell_type": "code",
      "source": [
        "gen = count_up_to(3)\n",
        "print(next(gen))  # Output: 1\n",
        "for num in gen:\n",
        "    print(num)    # Output: 2, 3"
      ],
      "metadata": {
        "colab": {
          "base_uri": "https://localhost:8080/"
        },
        "id": "_8rTzYBMKmUz",
        "outputId": "72c5545f-7f4a-4223-ba8e-9602e8d16f7a"
      },
      "execution_count": null,
      "outputs": [
        {
          "output_type": "stream",
          "name": "stdout",
          "text": [
            "1\n",
            "2\n",
            "3\n"
          ]
        }
      ]
    },
    {
      "cell_type": "markdown",
      "source": [
        "3. Generator Expressions:"
      ],
      "metadata": {
        "id": "wRG1InTbKtvK"
      }
    },
    {
      "cell_type": "code",
      "source": [
        "gen_exp = (x * x for x in range(3))\n",
        "print(next(gen_exp))  # Output: 0"
      ],
      "metadata": {
        "colab": {
          "base_uri": "https://localhost:8080/"
        },
        "id": "xsc6hIsJKurt",
        "outputId": "2206c6e5-ff1c-4369-ec46-b6d2e033a956"
      },
      "execution_count": null,
      "outputs": [
        {
          "output_type": "stream",
          "name": "stdout",
          "text": [
            "0\n"
          ]
        }
      ]
    },
    {
      "cell_type": "markdown",
      "source": [
        "4. Advantages:\n",
        "\n",
        "Memory-efficient: No need to store all data.\n",
        "\n",
        "Lazy evaluation: Computes values only when needed.\n",
        "\n",
        "\n",
        "\n",
        "\n",
        "Generators are ideal for large datasets or infinite sequences."
      ],
      "metadata": {
        "id": "dJ1xNxWXK0dV"
      }
    },
    {
      "cell_type": "markdown",
      "source": [
        "\n",
        "\n",
        "Question 7.What are the advantages of using generators over regular functions?\n",
        "\n",
        "\n",
        "\n",
        "\n",
        "Answer-Advantages of Generators Over Regular Functions\n",
        "\n",
        "1. Memory Efficiency:\n",
        "\n",
        "Generators produce values one at a time and do not store the entire sequence in memory.\n",
        "\n",
        "Ideal for large datasets or infinite sequences.\n",
        "\n",
        "\n",
        "\n",
        "2. Lazy Evaluation:\n",
        "\n",
        "Values are generated only when needed, reducing computation overhead for unused results.\n",
        "\n",
        "\n",
        "\n",
        "3. Simplified Code for Iterators:\n",
        "\n",
        "Generators automatically implement the iterator protocol, avoiding the need to write __iter__() and __next__() manually.\n",
        "\n",
        "\n",
        "\n",
        "4. Improved Performance:\n",
        "\n",
        "Faster than functions that build and return large data structures like lists or tuples.\n",
        "\n",
        "\n",
        "\n",
        "5. Pipeline Capabilities:\n",
        "\n",
        "Generators can be chained together to process data in steps, improving modularity and performance.\n",
        "\n",
        "\n",
        "\n",
        "6. Infinite Sequences:\n",
        "\n",
        "Generators can produce infinite sequences without exhausting memory.\n",
        "\n",
        "\n",
        "\n",
        "\n",
        "Example:"
      ],
      "metadata": {
        "id": "rEjdf2IvLFkw"
      }
    },
    {
      "cell_type": "code",
      "source": [
        "def fibonacci():\n",
        "    a, b = 0, 1\n",
        "    while True:\n",
        "        yield a\n",
        "        a, b = b, a + b\n",
        "\n",
        "fib = fibonacci()\n",
        "print(next(fib))  # Output: 0\n",
        "print(next(fib))  # Output: 1"
      ],
      "metadata": {
        "colab": {
          "base_uri": "https://localhost:8080/"
        },
        "id": "LKuPIVdVLgL6",
        "outputId": "955ea5c4-f2d9-4a2e-d830-dc6b73b0b9be"
      },
      "execution_count": null,
      "outputs": [
        {
          "output_type": "stream",
          "name": "stdout",
          "text": [
            "0\n",
            "1\n"
          ]
        }
      ]
    },
    {
      "cell_type": "markdown",
      "source": [
        "Question 8.What is a lambda function in Python and when is it typically used?\n",
        "\n",
        "Answer-Lambda Function in Python\n",
        "\n",
        "A lambda function is an anonymous, single-expression function defined using the lambda keyword. It is a concise way to create functions without explicitly using the def keyword.\n",
        "\n",
        "\n",
        "---\n",
        "\n",
        "Syntax:"
      ],
      "metadata": {
        "id": "KmjpCgguL9MV"
      }
    },
    {
      "cell_type": "code",
      "source": [
        "lambda arguments: expression"
      ],
      "metadata": {
        "colab": {
          "base_uri": "https://localhost:8080/"
        },
        "id": "tfdiwlxiMFbd",
        "outputId": "e2e859bc-56e9-4d29-f133-7f5f8e706af4"
      },
      "execution_count": null,
      "outputs": [
        {
          "output_type": "execute_result",
          "data": {
            "text/plain": [
              "<function __main__.<lambda>(arguments)>"
            ]
          },
          "metadata": {},
          "execution_count": 23
        }
      ]
    },
    {
      "cell_type": "markdown",
      "source": [
        "The expression is evaluated and returned automatically.\n",
        "\n",
        "\n",
        "---\n",
        "\n",
        "Example:"
      ],
      "metadata": {
        "id": "TwNpvXB8MFpL"
      }
    },
    {
      "cell_type": "code",
      "source": [
        "# Regular function\n",
        "def add(x, y):\n",
        "    return x + y\n",
        "\n",
        "# Lambda function\n",
        "add = lambda x, y: x + y\n",
        "\n",
        "print(add(3, 5))  # Output: 8"
      ],
      "metadata": {
        "colab": {
          "base_uri": "https://localhost:8080/"
        },
        "id": "9GSoDbuTMKeJ",
        "outputId": "95b73f80-158a-42af-9d43-7d277613618b"
      },
      "execution_count": null,
      "outputs": [
        {
          "output_type": "stream",
          "name": "stdout",
          "text": [
            "8\n"
          ]
        }
      ]
    },
    {
      "cell_type": "markdown",
      "source": [
        "When to Use Lambda Functions\n",
        "\n",
        "1. Short, Simple Functions:\n",
        "\n",
        "Useful for simple operations that can be expressed in a single line.\n",
        "\n",
        "\n",
        "\n",
        "2. As Arguments to Functions:\n",
        "\n",
        "Commonly used with functions like map(), filter(), and sorted().\n",
        "\n",
        "\n",
        "\n",
        "\n",
        "Example:"
      ],
      "metadata": {
        "id": "8xVunmZAMKz2"
      }
    },
    {
      "cell_type": "code",
      "source": [
        "nums = [1, 2, 3, 4]\n",
        "squares = map(lambda x: x ** 2, nums)\n",
        "print(list(squares))  # Output: [1, 4, 9, 16]"
      ],
      "metadata": {
        "colab": {
          "base_uri": "https://localhost:8080/"
        },
        "id": "QpTnk7DIMx0v",
        "outputId": "3dee27d5-7f9a-4684-d93c-3b73b8030cb9"
      },
      "execution_count": null,
      "outputs": [
        {
          "output_type": "stream",
          "name": "stdout",
          "text": [
            "[1, 4, 9, 16]\n"
          ]
        }
      ]
    },
    {
      "cell_type": "markdown",
      "source": [
        "3. For Inline Operations:\n",
        "\n",
        "When a function is needed temporarily within a larger piece of code.\n",
        "\n",
        "\n",
        "\n",
        "4. Custom Sorting:\n",
        "\n",
        "Specify a sorting key."
      ],
      "metadata": {
        "id": "PS7qhxKXMUE6"
      }
    },
    {
      "cell_type": "code",
      "source": [
        "names = [\"Alice\", \"Bob\", \"Charlie\"]\n",
        "names.sort(key=lambda x: len(x))\n",
        "print(names)  # Output: ['Bob', 'Alice', 'Charlie']"
      ],
      "metadata": {
        "colab": {
          "base_uri": "https://localhost:8080/"
        },
        "id": "ErI1v9ayMZVN",
        "outputId": "d46630fb-7a44-450f-eb69-f6d4f01b70e4"
      },
      "execution_count": null,
      "outputs": [
        {
          "output_type": "stream",
          "name": "stdout",
          "text": [
            "['Bob', 'Alice', 'Charlie']\n"
          ]
        }
      ]
    },
    {
      "cell_type": "markdown",
      "source": [
        "Limitations:\n",
        "\n",
        "Limited to a single expression.\n",
        "\n",
        "Can reduce code readability when overused.\n",
        "\n",
        "\n",
        "Lambda functions are ideal for quick, disposable functionality in Python."
      ],
      "metadata": {
        "id": "-M86s80XMZjl"
      }
    },
    {
      "cell_type": "markdown",
      "source": [
        "Question 9.Explain the purpose and usage of the map() function in Python.\n",
        "\n",
        "\n",
        "Answer-The map() function in Python is used to apply a given function to each item in an iterable (like a list, tuple, or string) and return a map object, which is an iterator. This function is useful for performing transformations or computations on a sequence of data in a concise and efficient way.\n",
        "\n",
        "Syntax"
      ],
      "metadata": {
        "id": "hXenHn1EMdj_"
      }
    },
    {
      "cell_type": "code",
      "source": [
        "map(function, iterable, *iterables)"
      ],
      "metadata": {
        "colab": {
          "base_uri": "https://localhost:8080/",
          "height": 245
        },
        "id": "XLdRcWajNPnV",
        "outputId": "a5e1a6c5-7eb6-4136-d824-d45c75e9dfd5"
      },
      "execution_count": null,
      "outputs": [
        {
          "output_type": "error",
          "ename": "NameError",
          "evalue": "name 'function' is not defined",
          "traceback": [
            "\u001b[0;31m---------------------------------------------------------------------------\u001b[0m",
            "\u001b[0;31mNameError\u001b[0m                                 Traceback (most recent call last)",
            "\u001b[0;32m<ipython-input-1-6151052fcd1a>\u001b[0m in \u001b[0;36m<cell line: 0>\u001b[0;34m()\u001b[0m\n\u001b[0;32m----> 1\u001b[0;31m \u001b[0mmap\u001b[0m\u001b[0;34m(\u001b[0m\u001b[0mfunction\u001b[0m\u001b[0;34m,\u001b[0m \u001b[0miterable\u001b[0m\u001b[0;34m,\u001b[0m \u001b[0;34m*\u001b[0m\u001b[0miterables\u001b[0m\u001b[0;34m)\u001b[0m\u001b[0;34m\u001b[0m\u001b[0;34m\u001b[0m\u001b[0m\n\u001b[0m",
            "\u001b[0;31mNameError\u001b[0m: name 'function' is not defined"
          ]
        }
      ]
    },
    {
      "cell_type": "markdown",
      "source": [
        "function: The function to apply to each element of the iterable(s).\n",
        "\n",
        "iterable: The sequence(s) (e.g., list, tuple) to process.\n",
        "\n",
        "Additional iterables can be provided if the function accepts multiple arguments.\n",
        "\n",
        "\n",
        "Key Points\n",
        "\n",
        "1. Lazy Evaluation: map() returns a map object, which is an iterator. To get the results, you need to convert it to a list, tuple, or other iterable types.\n",
        "\n",
        "\n",
        "2. Multiple Iterables: You can pass multiple iterables if the function takes multiple arguments. The iterables should have the same length; otherwise, the iteration stops at the shortest one.\n",
        "\n",
        "\n",
        "\n",
        "Example Usage\n",
        "\n",
        "1. Single Iterable"
      ],
      "metadata": {
        "id": "OiY74EANNQ6R"
      }
    },
    {
      "cell_type": "code",
      "source": [
        "\n",
        "# Double each number in a list\n",
        "numbers = [1, 2, 3, 4]\n",
        "result = map(lambda x: x * 2, numbers)\n",
        "print(list(result))  # Output: [2, 4, 6, 8]"
      ],
      "metadata": {
        "colab": {
          "base_uri": "https://localhost:8080/"
        },
        "id": "l6LD5uFiNflH",
        "outputId": "ec473fea-3381-4f47-83ce-4b2c494c8467"
      },
      "execution_count": null,
      "outputs": [
        {
          "output_type": "stream",
          "name": "stdout",
          "text": [
            "[2, 4, 6, 8]\n"
          ]
        }
      ]
    },
    {
      "cell_type": "markdown",
      "source": [
        "2. Multiple Iterables"
      ],
      "metadata": {
        "id": "5x8mGuc6Nj-F"
      }
    },
    {
      "cell_type": "code",
      "source": [
        "\n",
        "# Add corresponding elements from two lists\n",
        "list1 = [1, 2, 3]\n",
        "list2 = [4, 5, 6]\n",
        "result = map(lambda x, y: x + y, list1, list2)\n",
        "print(list(result))  # Output: [5, 7, 9]"
      ],
      "metadata": {
        "colab": {
          "base_uri": "https://localhost:8080/"
        },
        "id": "PfpY850sNqYt",
        "outputId": "3356fe3b-4911-4d8a-8b74-1e2fa8e45443"
      },
      "execution_count": null,
      "outputs": [
        {
          "output_type": "stream",
          "name": "stdout",
          "text": [
            "[5, 7, 9]\n"
          ]
        }
      ]
    },
    {
      "cell_type": "markdown",
      "source": [
        "3. Using a Defined Function"
      ],
      "metadata": {
        "id": "8NbMoy9DNu-K"
      }
    },
    {
      "cell_type": "code",
      "source": [
        "def square(n):\n",
        "    return n * n\n",
        "\n",
        "numbers = [1, 2, 3, 4]\n",
        "result = map(square, numbers)\n",
        "print(list(result))  # Output: [1, 4, 9, 16]"
      ],
      "metadata": {
        "colab": {
          "base_uri": "https://localhost:8080/"
        },
        "id": "R9PA2x1nN0T2",
        "outputId": "c4055a53-68e2-4590-c227-1087a5f56ff1"
      },
      "execution_count": null,
      "outputs": [
        {
          "output_type": "stream",
          "name": "stdout",
          "text": [
            "[1, 4, 9, 16]\n"
          ]
        }
      ]
    },
    {
      "cell_type": "markdown",
      "source": [
        "Advantages\n",
        "\n",
        "Reduces the need for explicit loops, making the code more concise.\n",
        "\n",
        "Combines well with functions like lambda, filter(), and reduce() for functional programming tasks.\n",
        "\n",
        "\n",
        "Alternative\n",
        "\n",
        "For more complex transformations, consider using list comprehensions, which are often more readable:"
      ],
      "metadata": {
        "id": "_lWsVmq6N29j"
      }
    },
    {
      "cell_type": "code",
      "source": [
        "numbers = [1, 2, 3, 4]\n",
        "result = [x * 2 for x in numbers]\n",
        "print(result)  # Output: [2, 4, 6, 8]"
      ],
      "metadata": {
        "colab": {
          "base_uri": "https://localhost:8080/"
        },
        "id": "6-0L3lB1N9Nh",
        "outputId": "442f8437-e89a-4fca-8791-11fac4d6dcdb"
      },
      "execution_count": null,
      "outputs": [
        {
          "output_type": "stream",
          "name": "stdout",
          "text": [
            "[2, 4, 6, 8]\n"
          ]
        }
      ]
    },
    {
      "cell_type": "markdown",
      "source": [
        "map() is particularly useful when working with functions that you want to apply uniformly to a large dataset."
      ],
      "metadata": {
        "id": "cyO-x74-N_Yt"
      }
    },
    {
      "cell_type": "markdown",
      "source": [
        "Question 10.What is the difference between Map(),Reduce() and Filter() functions in Python?\n",
        "\n",
        "Answer-In Python, map(), reduce(), and filter() are functional programming tools used to process data in a concise and functional style. Each serves a distinct purpose:\n",
        "\n",
        "\n",
        "---\n",
        "\n",
        "1. map()\n",
        "\n",
        "Purpose: Applies a given function to each item of an iterable and returns a map object (iterator) containing the transformed items.\n",
        "\n",
        "Usage:\n",
        "\n",
        "Transforms all items in an iterable based on the provided function.\n",
        "\n",
        "Suitable for one-to-one mapping operations.\n",
        "\n",
        "\n",
        "Syntax:"
      ],
      "metadata": {
        "id": "BUbw78IZODzG"
      }
    },
    {
      "cell_type": "code",
      "source": [
        "map(function, iterable, *iterables)"
      ],
      "metadata": {
        "colab": {
          "base_uri": "https://localhost:8080/",
          "height": 245
        },
        "id": "Fc6-BRAzOh7Q",
        "outputId": "823ff051-34c9-4e1c-a67c-b4ce26e4585a"
      },
      "execution_count": null,
      "outputs": [
        {
          "output_type": "error",
          "ename": "NameError",
          "evalue": "name 'function' is not defined",
          "traceback": [
            "\u001b[0;31m---------------------------------------------------------------------------\u001b[0m",
            "\u001b[0;31mNameError\u001b[0m                                 Traceback (most recent call last)",
            "\u001b[0;32m<ipython-input-7-6151052fcd1a>\u001b[0m in \u001b[0;36m<cell line: 0>\u001b[0;34m()\u001b[0m\n\u001b[0;32m----> 1\u001b[0;31m \u001b[0mmap\u001b[0m\u001b[0;34m(\u001b[0m\u001b[0mfunction\u001b[0m\u001b[0;34m,\u001b[0m \u001b[0miterable\u001b[0m\u001b[0;34m,\u001b[0m \u001b[0;34m*\u001b[0m\u001b[0miterables\u001b[0m\u001b[0;34m)\u001b[0m\u001b[0;34m\u001b[0m\u001b[0;34m\u001b[0m\u001b[0m\n\u001b[0m",
            "\u001b[0;31mNameError\u001b[0m: name 'function' is not defined"
          ]
        }
      ]
    },
    {
      "cell_type": "markdown",
      "source": [
        "Example"
      ],
      "metadata": {
        "id": "balldaCrOsqx"
      }
    },
    {
      "cell_type": "code",
      "source": [
        "\n",
        "# Double each number in a list\n",
        "numbers = [1, 2, 3, 4]\n",
        "result = map(lambda x: x * 2, numbers)\n",
        "print(list(result))  # Output: [2, 4, 6, 8]"
      ],
      "metadata": {
        "colab": {
          "base_uri": "https://localhost:8080/"
        },
        "id": "S5kMz2SOOvr7",
        "outputId": "a1841a87-f2f8-4451-90da-bdeb7867d000"
      },
      "execution_count": null,
      "outputs": [
        {
          "output_type": "stream",
          "name": "stdout",
          "text": [
            "[2, 4, 6, 8]\n"
          ]
        }
      ]
    },
    {
      "cell_type": "markdown",
      "source": [
        "2. reduce()\n",
        "\n",
        "Purpose: Applies a function cumulatively to the items of an iterable, reducing it to a single value. The reduce() function is part of the functools module in Python 3.\n",
        "\n",
        "Usage:\n",
        "\n",
        "Aggregates values (e.g., summation, product, finding maximum/minimum).\n",
        "\n",
        "Suitable for operations that combine all elements into one result.\n",
        "\n",
        "\n",
        "Syntax:"
      ],
      "metadata": {
        "id": "XuNu2I6gO0FT"
      }
    },
    {
      "cell_type": "code",
      "source": [
        "from functools import reduce\n",
        "reduce(function, iterable[, initializer])"
      ],
      "metadata": {
        "colab": {
          "base_uri": "https://localhost:8080/",
          "height": 141
        },
        "id": "wP-HOeBRO8RG",
        "outputId": "550fab3b-0092-4fd5-a51f-37c6f7d40f8c"
      },
      "execution_count": null,
      "outputs": [
        {
          "output_type": "error",
          "ename": "SyntaxError",
          "evalue": "invalid syntax (<ipython-input-9-b2d2a5dd2a59>, line 2)",
          "traceback": [
            "\u001b[0;36m  File \u001b[0;32m\"<ipython-input-9-b2d2a5dd2a59>\"\u001b[0;36m, line \u001b[0;32m2\u001b[0m\n\u001b[0;31m    reduce(function, iterable[, initializer])\u001b[0m\n\u001b[0m                              ^\u001b[0m\n\u001b[0;31mSyntaxError\u001b[0m\u001b[0;31m:\u001b[0m invalid syntax\n"
          ]
        }
      ]
    },
    {
      "cell_type": "markdown",
      "source": [
        "Example"
      ],
      "metadata": {
        "id": "qt1DkNCtO_rS"
      }
    },
    {
      "cell_type": "code",
      "source": [
        "from functools import reduce\n",
        "\n",
        "# Find the product of all elements\n",
        "numbers = [1, 2, 3, 4]\n",
        "result = reduce(lambda x, y: x * y, numbers)\n",
        "print(result)  # Output: 24"
      ],
      "metadata": {
        "colab": {
          "base_uri": "https://localhost:8080/"
        },
        "id": "-Rerfu1WPBsO",
        "outputId": "2be72a1c-f4b1-4281-971e-f0b0b1d39fb9"
      },
      "execution_count": null,
      "outputs": [
        {
          "output_type": "stream",
          "name": "stdout",
          "text": [
            "24\n"
          ]
        }
      ]
    },
    {
      "cell_type": "markdown",
      "source": [
        "3. filter()\n",
        "\n",
        "Purpose: Filters elements of an iterable, returning only those that satisfy a given condition.\n",
        "\n",
        "Usage:\n",
        "\n",
        "Selects a subset of items based on a boolean condition.\n",
        "\n",
        "Suitable for operations that remove unwanted items from a collection.\n",
        "\n",
        "\n",
        "Syntax:"
      ],
      "metadata": {
        "id": "5-4zDLOXPEkW"
      }
    },
    {
      "cell_type": "code",
      "source": [
        "filter(function, iterable)"
      ],
      "metadata": {
        "id": "EeVvRFcfPKr0"
      },
      "execution_count": null,
      "outputs": []
    },
    {
      "cell_type": "markdown",
      "source": [
        "Example"
      ],
      "metadata": {
        "id": "D2tDApAZPRu5"
      }
    },
    {
      "cell_type": "code",
      "source": [
        "\n",
        "# Filter even numbers from a list\n",
        "numbers = [1, 2, 3, 4, 5, 6]\n",
        "result = filter(lambda x: x % 2 == 0, numbers)\n",
        "print(list(result))  # Output: [2, 4, 6]"
      ],
      "metadata": {
        "colab": {
          "base_uri": "https://localhost:8080/"
        },
        "id": "17w2evcXPY3I",
        "outputId": "88e58b37-b65c-460e-db97-4369dd87e22e"
      },
      "execution_count": null,
      "outputs": [
        {
          "output_type": "stream",
          "name": "stdout",
          "text": [
            "[2, 4, 6]\n"
          ]
        }
      ]
    }
  ]
}